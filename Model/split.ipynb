{
 "cells": [
  {
   "cell_type": "markdown",
   "metadata": {},
   "source": [
    "# Splitting Datasets "
   ]
  },
  {
   "cell_type": "code",
   "execution_count": 31,
   "metadata": {},
   "outputs": [],
   "source": [
    "import pandas as pd\n",
    "from sklearn.model_selection import train_test_split\n",
    "\n",
    "# Function to split dataset and save to csv\n",
    "def split_and_save_dataset(file_path, train_size=0.8):\n",
    "    # Read the dataset\n",
    "    df = pd.read_csv(file_path)\n",
    "\n",
    "    # Split the dataset into train and test sets\n",
    "    train, test = train_test_split(df, train_size=train_size, random_state=42)\n",
    "\n",
    "    # Save the train and test sets into new csv files\n",
    "    train.to_csv(file_path.replace('.csv', '_train.csv'), index=False)\n",
    "    test.to_csv(file_path.replace('.csv', '_test.csv'), index=False)\n",
    "\n"
   ]
  },
  {
   "cell_type": "code",
   "execution_count": 2,
   "metadata": {},
   "outputs": [],
   "source": [
    "\n",
    "split_and_save_dataset('datasets/hausa_updated.csv')\n",
    "split_and_save_dataset('datasets/yoruba.csv')\n"
   ]
  },
  {
   "cell_type": "code",
   "execution_count": 6,
   "metadata": {},
   "outputs": [],
   "source": [
    "split_and_save_dataset('datasets/igbo-dataset.csv')\n"
   ]
  }
 ],
 "metadata": {
  "kernelspec": {
   "display_name": "arewads",
   "language": "python",
   "name": "python3"
  },
  "language_info": {
   "codemirror_mode": {
    "name": "ipython",
    "version": 3
   },
   "file_extension": ".py",
   "mimetype": "text/x-python",
   "name": "python",
   "nbconvert_exporter": "python",
   "pygments_lexer": "ipython3",
   "version": "3.1.0"
  }
 },
 "nbformat": 4,
 "nbformat_minor": 2
}
